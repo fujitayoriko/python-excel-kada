{
  "nbformat": 4,
  "nbformat_minor": 0,
  "metadata": {
    "colab": {
      "provenance": []
    },
    "kernelspec": {
      "name": "python3",
      "display_name": "Python 3"
    },
    "language_info": {
      "name": "python"
    }
  },
  "cells": [
    {
      "cell_type": "code",
      "execution_count": 6,
      "metadata": {
        "id": "1L3vUDZSLAbv"
      },
      "outputs": [],
      "source": [
        "import pandas as pd\n",
        "import openpyxl\n",
        "from openpyxl.styles import PatternFill\n",
        "\n",
        "#ファイル読み込み\n",
        "file1=pd.read_excel('2022_年間売上表.xlsx')\n",
        "file2=pd.read_excel('2023_年間売上表.xlsx')\n",
        "\n",
        "#結合\n",
        "df=pd.concat([file1,file2])\n",
        "\n",
        "#商品・売上ごとに集約して集計（結合したくないからas_index=False）\n",
        "result=df.groupby(['商品','売上年'],as_index=False).sum()\n",
        "\n",
        "#Excel書き込み\n",
        "writer=pd.ExcelWriter('売上管理表.xlsx')\n",
        "result.to_excel(writer,sheet_name='売上',index=False)\n",
        "#閉じる\n",
        "writer.close()\n",
        "\n",
        "#ファイルの再読み込み\n",
        "wb=openpyxl.load_workbook('売上管理表.xlsx')\n",
        "ws=wb['売上']\n",
        "\n",
        "#セル色設定\n",
        "Cell_color=PatternFill(patternType='solid',fgColor='F2F2F2')\n",
        "\n",
        "#色付け\n",
        "for rows in ws['A1:C1']:\n",
        "    for cell in rows:\n",
        "        cell.fill=Cell_color\n",
        "\n",
        "#上書き保存\n",
        "wb.save('売上管理表.xlsx')"
      ]
    }
  ]
}